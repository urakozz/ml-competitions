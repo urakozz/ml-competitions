{
 "cells": [
  {
   "cell_type": "code",
   "execution_count": 275,
   "metadata": {
    "collapsed": false
   },
   "outputs": [],
   "source": [
    "import tensorflow as tf\n",
    "import numpy as np\n",
    "import pandas as pd\n",
    "import time\n",
    "import gc\n",
    "import matplotlib.pyplot as plt\n",
    "%matplotlib inline"
   ]
  },
  {
   "cell_type": "code",
   "execution_count": 268,
   "metadata": {
    "collapsed": false
   },
   "outputs": [
    {
     "ename": "NameError",
     "evalue": "name 'roc_auc_score' is not defined",
     "output_type": "error",
     "traceback": [
      "\u001b[0;31m---------------------------------------------------------------------------\u001b[0m",
      "\u001b[0;31mNameError\u001b[0m                                 Traceback (most recent call last)",
      "\u001b[0;32m<ipython-input-268-d75c0fa2b791>\u001b[0m in \u001b[0;36m<module>\u001b[0;34m()\u001b[0m\n\u001b[0;32m----> 1\u001b[0;31m \u001b[0mroc_auc_score\u001b[0m\u001b[0;34m\u001b[0m\u001b[0m\n\u001b[0m",
      "\u001b[0;31mNameError\u001b[0m: name 'roc_auc_score' is not defined"
     ]
    }
   ],
   "source": []
  },
  {
   "cell_type": "code",
   "execution_count": 150,
   "metadata": {
    "collapsed": false
   },
   "outputs": [
    {
     "name": "stderr",
     "output_type": "stream",
     "text": [
      "/Users/yury/anaconda/envs/tensorflow/lib/python3.5/site-packages/IPython/core/interactiveshell.py:2723: DtypeWarning: Columns (5,8,11,15) have mixed types. Specify dtype option on import or set low_memory=False.\n",
      "  interactivity=interactivity, compiler=compiler, result=result)\n"
     ]
    }
   ],
   "source": [
    "csv = pd.read_csv(\"train_ver2.csv\")\n",
    "csv.drop(\"fecha_alta\", axis=1, inplace=True)\n",
    "csv.drop(\"ind_nuevo\", axis=1, inplace=True)\n",
    "csv.drop(\"indext\", axis=1, inplace=True)"
   ]
  },
  {
   "cell_type": "code",
   "execution_count": 151,
   "metadata": {
    "collapsed": true
   },
   "outputs": [],
   "source": [
    "csv[\"fecha_dato_dt\"] = pd.to_datetime(csv[\"fecha_dato\"])\n",
    "csv[\"ult_fec_cli_1t\"] = pd.to_datetime(csv[\"ult_fec_cli_1t\"])"
   ]
  },
  {
   "cell_type": "code",
   "execution_count": 152,
   "metadata": {
    "collapsed": false
   },
   "outputs": [],
   "source": [
    "csv['age'].replace([\" NA\",\"NA\",\"\"], np.nan, inplace=True)"
   ]
  },
  {
   "cell_type": "code",
   "execution_count": 153,
   "metadata": {
    "collapsed": false
   },
   "outputs": [],
   "source": [
    "csv['age'] = csv['age'].astype(np.float64)"
   ]
  },
  {
   "cell_type": "code",
   "execution_count": 154,
   "metadata": {
    "collapsed": false
   },
   "outputs": [],
   "source": [
    "csv = csv[np.isfinite(csv['age'])]"
   ]
  },
  {
   "cell_type": "code",
   "execution_count": 155,
   "metadata": {
    "collapsed": true
   },
   "outputs": [],
   "source": [
    "csv[\"ncodpers\"] = csv[\"ncodpers\"].astype(np.int32)"
   ]
  },
  {
   "cell_type": "code",
   "execution_count": 156,
   "metadata": {
    "collapsed": false
   },
   "outputs": [
    {
     "data": {
      "text/plain": [
       "N    13610977\n",
       "B        3566\n",
       "F        2523\n",
       "A        2492\n",
       "S          17\n",
       "Name: ind_empleado, dtype: int64"
      ]
     },
     "execution_count": 156,
     "metadata": {},
     "output_type": "execute_result"
    }
   ],
   "source": [
    "csv[\"ind_empleado\"].value_counts()"
   ]
  },
  {
   "cell_type": "code",
   "execution_count": 157,
   "metadata": {
    "collapsed": true
   },
   "outputs": [],
   "source": [
    "ind_empleado_vals = [0,1,2,3,4]\n",
    "csv[\"ind_empleado\"].replace([\"N\",\"B\",\"F\",\"A\",\"S\"], ind_empleado_vals, inplace=True)\n",
    "csv[\"ind_empleado\"] = csv[\"ind_empleado\"].astype(np.int32)\n"
   ]
  },
  {
   "cell_type": "code",
   "execution_count": null,
   "metadata": {
    "collapsed": false
   },
   "outputs": [],
   "source": []
  },
  {
   "cell_type": "code",
   "execution_count": 158,
   "metadata": {
    "collapsed": false
   },
   "outputs": [],
   "source": [
    "csv[\"pais_residencia\"] = [int(b) for b in csv[\"pais_residencia\"] == \"ES\"]\n",
    "csv[\"pais_residencia\"] = csv[\"pais_residencia\"].astype(np.int32)"
   ]
  },
  {
   "cell_type": "code",
   "execution_count": 159,
   "metadata": {
    "collapsed": false
   },
   "outputs": [],
   "source": [
    "csv[\"sexo\"] = csv[\"sexo\"].apply(lambda s: 1 if s == \"H\" else 0)\n",
    "csv[\"sexo\"] = csv[\"sexo\"].astype(np.int32)"
   ]
  },
  {
   "cell_type": "code",
   "execution_count": 160,
   "metadata": {
    "collapsed": false
   },
   "outputs": [],
   "source": [
    "csv[\"age\"] = csv[\"age\"].apply(lambda s: 100. if s >100. else s)\n",
    "csv[\"age\"] = csv[\"age\"].apply(lambda s: s*10 if s < 10. else s)\n",
    "csv[\"age\"] = csv[\"age\"]/100."
   ]
  },
  {
   "cell_type": "code",
   "execution_count": 161,
   "metadata": {
    "collapsed": true
   },
   "outputs": [],
   "source": [
    "csv[\"antiguedad\"] = csv[\"antiguedad\"].astype(np.int32)"
   ]
  },
  {
   "cell_type": "code",
   "execution_count": 162,
   "metadata": {
    "collapsed": false
   },
   "outputs": [],
   "source": [
    "antiguedad_median = csv[\"antiguedad\"].median()\n",
    "csv[\"antiguedad\"] = csv[\"antiguedad\"].apply(lambda s: antiguedad_median if s <= 0. else s)\n",
    "csv[\"antiguedad\"] = csv[\"antiguedad\"]/300"
   ]
  },
  {
   "cell_type": "code",
   "execution_count": 163,
   "metadata": {
    "collapsed": false
   },
   "outputs": [],
   "source": [
    "csv[\"indrel\"] = csv[\"indrel\"].apply(lambda s: 0 if s == 99. else 1).astype(np.int32)"
   ]
  },
  {
   "cell_type": "code",
   "execution_count": 164,
   "metadata": {
    "collapsed": false
   },
   "outputs": [
    {
     "name": "stderr",
     "output_type": "stream",
     "text": [
      "/Users/yury/anaconda/envs/tensorflow/lib/python3.5/site-packages/ipykernel/__main__.py:1: SettingWithCopyWarning: \n",
      "A value is trying to be set on a copy of a slice from a DataFrame\n",
      "\n",
      "See the caveats in the documentation: http://pandas.pydata.org/pandas-docs/stable/indexing.html#indexing-view-versus-copy\n",
      "  if __name__ == '__main__':\n",
      "/Users/yury/anaconda/envs/tensorflow/lib/python3.5/site-packages/ipykernel/__main__.py:4: SettingWithCopyWarning: \n",
      "A value is trying to be set on a copy of a slice from a DataFrame\n",
      "\n",
      "See the caveats in the documentation: http://pandas.pydata.org/pandas-docs/stable/indexing.html#indexing-view-versus-copy\n"
     ]
    }
   ],
   "source": [
    "csv[\"ult_fec_cli_1t\"][csv[\"indrel\"] == 1] = csv[\"fecha_dato_dt\"][csv[\"indrel\"] == 1]\n",
    "\n",
    "idx = csv[\"ult_fec_cli_1t\"] - csv[\"fecha_dato_dt\"] < np.timedelta64(1, 'D')\n",
    "csv[\"ult_fec_cli_1t\"][idx] = csv[\"fecha_dato_dt\"][idx]"
   ]
  },
  {
   "cell_type": "code",
   "execution_count": 165,
   "metadata": {
    "collapsed": false
   },
   "outputs": [],
   "source": [
    "prim_mon = (csv[\"ult_fec_cli_1t\"] - csv[\"fecha_dato_dt\"]).astype('timedelta64[D]') \n",
    "csv[\"ult_fec_cli_1t\"] = prim_mon / 200."
   ]
  },
  {
   "cell_type": "code",
   "execution_count": 167,
   "metadata": {
    "collapsed": true
   },
   "outputs": [],
   "source": [
    "csv.drop(\"fecha_dato_dt\", axis=1, inplace=True)"
   ]
  },
  {
   "cell_type": "code",
   "execution_count": 166,
   "metadata": {
    "collapsed": false
   },
   "outputs": [
    {
     "name": "stderr",
     "output_type": "stream",
     "text": [
      "/Users/yury/anaconda/envs/tensorflow/lib/python3.5/site-packages/ipykernel/__main__.py:1: SettingWithCopyWarning: \n",
      "A value is trying to be set on a copy of a slice from a DataFrame\n",
      "\n",
      "See the caveats in the documentation: http://pandas.pydata.org/pandas-docs/stable/indexing.html#indexing-view-versus-copy\n",
      "  if __name__ == '__main__':\n"
     ]
    }
   ],
   "source": [
    "csv[\"indrel_1mes\"][csv[\"indrel_1mes\"] == \"P\"] = 5"
   ]
  },
  {
   "cell_type": "code",
   "execution_count": 168,
   "metadata": {
    "collapsed": false
   },
   "outputs": [
    {
     "name": "stderr",
     "output_type": "stream",
     "text": [
      "/Users/yury/anaconda/envs/tensorflow/lib/python3.5/site-packages/ipykernel/__main__.py:2: SettingWithCopyWarning: \n",
      "A value is trying to be set on a copy of a slice from a DataFrame\n",
      "\n",
      "See the caveats in the documentation: http://pandas.pydata.org/pandas-docs/stable/indexing.html#indexing-view-versus-copy\n",
      "  from ipykernel import kernelapp as app\n"
     ]
    }
   ],
   "source": [
    "csv[\"indrel_1mes\"] = csv[\"indrel_1mes\"].astype(np.float64)\n",
    "csv[\"indrel_1mes\"][np.isnan(csv[\"indrel_1mes\"])] = 0.\n",
    "csv[\"indrel_1mes\"] = csv[\"indrel_1mes\"].astype(np.int32)\n",
    "\n"
   ]
  },
  {
   "cell_type": "code",
   "execution_count": 169,
   "metadata": {
    "collapsed": false
   },
   "outputs": [],
   "source": [
    "csv[\"indresi\"] = csv[\"indresi\"].apply(lambda s: 1 if s == \"S\" else 0).astype(np.int32)"
   ]
  },
  {
   "cell_type": "code",
   "execution_count": null,
   "metadata": {
    "collapsed": false
   },
   "outputs": [],
   "source": []
  },
  {
   "cell_type": "code",
   "execution_count": 170,
   "metadata": {
    "collapsed": false
   },
   "outputs": [
    {
     "data": {
      "text/plain": [
       "KHE    4055270\n",
       "KAT    3268209\n",
       "KFC    3098360\n",
       "KHQ     591039\n",
       "KFA     409669\n",
       "KHK     241084\n",
       "KHM     183924\n",
       "KHD     116891\n",
       "KHN     116608\n",
       "KAS      86221\n",
       "Name: canal_entrada, dtype: int64"
      ]
     },
     "execution_count": 170,
     "metadata": {},
     "output_type": "execute_result"
    }
   ],
   "source": [
    "csv[\"canal_entrada\"].value_counts()[:10]"
   ]
  },
  {
   "cell_type": "code",
   "execution_count": 171,
   "metadata": {
    "collapsed": false
   },
   "outputs": [
    {
     "name": "stderr",
     "output_type": "stream",
     "text": [
      "/Users/yury/anaconda/envs/tensorflow/lib/python3.5/site-packages/ipykernel/__main__.py:3: SettingWithCopyWarning: \n",
      "A value is trying to be set on a copy of a slice from a DataFrame\n",
      "\n",
      "See the caveats in the documentation: http://pandas.pydata.org/pandas-docs/stable/indexing.html#indexing-view-versus-copy\n",
      "  app.launch_new_instance()\n"
     ]
    }
   ],
   "source": [
    "tiprel_1mes_vals = [0,1,2,3,4]\n",
    "csv[\"tiprel_1mes\"].replace([\"I\",\"A\",\"P\",\"R\",\"N\"], tiprel_1mes_vals, inplace=True)\n",
    "csv[\"tiprel_1mes\"][np.isnan(csv[\"tiprel_1mes\"])] = 0.\n",
    "csv[\"tiprel_1mes\"] = csv[\"tiprel_1mes\"].astype(np.int32)"
   ]
  },
  {
   "cell_type": "code",
   "execution_count": 172,
   "metadata": {
    "collapsed": true
   },
   "outputs": [],
   "source": [
    "csv.drop(\"conyuemp\", axis=1, inplace=True)\n",
    "#csv[\"conyuemp\"] = csv[\"conyuemp\"].apply(lambda s: 1 if s == \"S\" else 0).astype(np.int32)"
   ]
  },
  {
   "cell_type": "code",
   "execution_count": 173,
   "metadata": {
    "collapsed": false
   },
   "outputs": [
    {
     "name": "stderr",
     "output_type": "stream",
     "text": [
      "/Users/yury/anaconda/envs/tensorflow/lib/python3.5/site-packages/ipykernel/__main__.py:6: SettingWithCopyWarning: \n",
      "A value is trying to be set on a copy of a slice from a DataFrame\n",
      "\n",
      "See the caveats in the documentation: http://pandas.pydata.org/pandas-docs/stable/indexing.html#indexing-view-versus-copy\n"
     ]
    }
   ],
   "source": [
    "canal_entrada_names = [\"OTHER\", \"KHE\",\"KAT\",\"KFC\", \"KHQ\", \"KFA\" ,\"KHK\" ,\"KHM\", \"KHD\", \"KHN\"]\n",
    "canal_entrada_vals = list(range(len(canal_entrada_names)))\n",
    "\n",
    "csv[\"canal_entrada\"].replace(canal_entrada_names, canal_entrada_vals, inplace=True)\n",
    "csv[\"canal_entrada\"] = csv[\"canal_entrada\"].apply(lambda s: 0 if isinstance(s, str) else s)\n",
    "csv[\"canal_entrada\"][np.isnan(csv[\"canal_entrada\"])] = 0"
   ]
  },
  {
   "cell_type": "code",
   "execution_count": 174,
   "metadata": {
    "collapsed": true
   },
   "outputs": [],
   "source": [
    "csv[\"canal_entrada\"] = csv[\"canal_entrada\"].astype(np.int32)"
   ]
  },
  {
   "cell_type": "code",
   "execution_count": 175,
   "metadata": {
    "collapsed": false
   },
   "outputs": [
    {
     "data": {
      "text/plain": [
       "N    13584813\n",
       "S       34762\n",
       "Name: indfall, dtype: int64"
      ]
     },
     "execution_count": 175,
     "metadata": {},
     "output_type": "execute_result"
    }
   ],
   "source": [
    "csv[\"indfall\"].value_counts()"
   ]
  },
  {
   "cell_type": "code",
   "execution_count": 176,
   "metadata": {
    "collapsed": true
   },
   "outputs": [],
   "source": [
    "csv[\"indfall\"] = csv[\"indfall\"].apply(lambda s: 1 if s == \"S\" else 0).astype(np.float64)\n",
    "csv[\"indfall\"] = csv[\"indfall\"].astype(np.int32)"
   ]
  },
  {
   "cell_type": "code",
   "execution_count": 177,
   "metadata": {
    "collapsed": false
   },
   "outputs": [
    {
     "data": {
      "text/plain": [
       "31"
      ]
     },
     "execution_count": 177,
     "metadata": {},
     "output_type": "execute_result"
    }
   ],
   "source": [
    "csv.drop(\"tipodom\", axis=1, inplace=True)\n",
    "csv.drop(\"cod_prov\", axis=1, inplace=True)\n",
    "csv.drop(\"nomprov\", axis=1, inplace=True)\n",
    "gc.collect()"
   ]
  },
  {
   "cell_type": "code",
   "execution_count": 178,
   "metadata": {
    "collapsed": false
   },
   "outputs": [],
   "source": [
    "csv[\"ind_actividad_cliente\"] = csv[\"ind_actividad_cliente\"].astype(np.int32)"
   ]
  },
  {
   "cell_type": "code",
   "execution_count": 179,
   "metadata": {
    "collapsed": false
   },
   "outputs": [],
   "source": [
    "csv[\"renta\"].fillna(csv[\"renta\"].median(), inplace=True)\n",
    "csv[\"renta\"] = csv[\"renta\"].astype(np.float64)"
   ]
  },
  {
   "cell_type": "code",
   "execution_count": 180,
   "metadata": {
    "collapsed": false
   },
   "outputs": [
    {
     "data": {
      "text/plain": [
       "28894395.510000002"
      ]
     },
     "execution_count": 180,
     "metadata": {},
     "output_type": "execute_result"
    }
   ],
   "source": [
    "csv[\"renta\"].max()"
   ]
  },
  {
   "cell_type": "code",
   "execution_count": 181,
   "metadata": {
    "collapsed": true
   },
   "outputs": [],
   "source": [
    "renta_max = 30000000.\n",
    "csv[\"renta\"] = csv[\"renta\"] / renta_max"
   ]
  },
  {
   "cell_type": "code",
   "execution_count": 182,
   "metadata": {
    "collapsed": false
   },
   "outputs": [],
   "source": [
    "segmento_names = [ \"01 - TOP\", \"03 - UNIVERSITARIO\", \"02 - PARTICULARES\"]\n",
    "segmento_vals = list(range(len(segmento_names)))\n",
    "csv[\"segmento\"].replace(segmento_names, segmento_vals, inplace=True)"
   ]
  },
  {
   "cell_type": "code",
   "execution_count": 183,
   "metadata": {
    "collapsed": false
   },
   "outputs": [
    {
     "data": {
      "text/plain": [
       "0"
      ]
     },
     "execution_count": 183,
     "metadata": {},
     "output_type": "execute_result"
    }
   ],
   "source": [
    "csv[\"segmento\"].fillna(csv[\"segmento\"].median(), inplace=True)\n",
    "csv[\"segmento\"] = csv[\"segmento\"].astype(np.int32)\n",
    "gc.collect()"
   ]
  },
  {
   "cell_type": "code",
   "execution_count": 184,
   "metadata": {
    "collapsed": false
   },
   "outputs": [
    {
     "name": "stdout",
     "output_type": "stream",
     "text": [
      "ind_ahor_fin_ult1\n",
      "ind_aval_fin_ult1\n",
      "ind_cco_fin_ult1\n",
      "ind_cder_fin_ult1\n",
      "ind_cno_fin_ult1\n",
      "ind_ctju_fin_ult1\n",
      "ind_ctma_fin_ult1\n",
      "ind_ctop_fin_ult1\n",
      "ind_ctpp_fin_ult1\n",
      "ind_deco_fin_ult1\n",
      "ind_deme_fin_ult1\n",
      "ind_dela_fin_ult1\n",
      "ind_ecue_fin_ult1\n",
      "ind_fond_fin_ult1\n",
      "ind_hip_fin_ult1\n",
      "ind_plan_fin_ult1\n",
      "ind_pres_fin_ult1\n",
      "ind_reca_fin_ult1\n",
      "ind_tjcr_fin_ult1\n",
      "ind_valo_fin_ult1\n",
      "ind_viv_fin_ult1\n",
      "ind_nomina_ult1\n",
      "ind_nom_pens_ult1\n",
      "ind_recibo_ult1\n"
     ]
    }
   ],
   "source": [
    "# We are interested in those fields\n",
    "y_fields = []\n",
    "for c in csv.columns:\n",
    "    if c.startswith(\"ind_\") and c.endswith(\"_ult1\"):\n",
    "        y_fields.append(c)\n",
    "for c in y_fields:\n",
    "    print(c)\n",
    "    csv[c] = csv[c].fillna(csv[c].median()).astype(np.int32)\n",
    "    gc.collect()"
   ]
  },
  {
   "cell_type": "code",
   "execution_count": null,
   "metadata": {
    "collapsed": false
   },
   "outputs": [],
   "source": []
  },
  {
   "cell_type": "code",
   "execution_count": null,
   "metadata": {
    "collapsed": false
   },
   "outputs": [],
   "source": []
  },
  {
   "cell_type": "code",
   "execution_count": 185,
   "metadata": {
    "collapsed": false
   },
   "outputs": [
    {
     "data": {
      "text/html": [
       "<div>\n",
       "<table border=\"1\" class=\"dataframe\">\n",
       "  <thead>\n",
       "    <tr style=\"text-align: right;\">\n",
       "      <th></th>\n",
       "      <th>fecha_dato</th>\n",
       "      <th>ncodpers</th>\n",
       "      <th>ind_empleado</th>\n",
       "      <th>pais_residencia</th>\n",
       "      <th>sexo</th>\n",
       "      <th>age</th>\n",
       "      <th>antiguedad</th>\n",
       "      <th>indrel</th>\n",
       "      <th>ult_fec_cli_1t</th>\n",
       "      <th>indrel_1mes</th>\n",
       "      <th>...</th>\n",
       "      <th>ind_hip_fin_ult1</th>\n",
       "      <th>ind_plan_fin_ult1</th>\n",
       "      <th>ind_pres_fin_ult1</th>\n",
       "      <th>ind_reca_fin_ult1</th>\n",
       "      <th>ind_tjcr_fin_ult1</th>\n",
       "      <th>ind_valo_fin_ult1</th>\n",
       "      <th>ind_viv_fin_ult1</th>\n",
       "      <th>ind_nomina_ult1</th>\n",
       "      <th>ind_nom_pens_ult1</th>\n",
       "      <th>ind_recibo_ult1</th>\n",
       "    </tr>\n",
       "  </thead>\n",
       "  <tbody>\n",
       "    <tr>\n",
       "      <th>0</th>\n",
       "      <td>2015-01-28</td>\n",
       "      <td>1375586</td>\n",
       "      <td>0</td>\n",
       "      <td>1</td>\n",
       "      <td>1</td>\n",
       "      <td>0.35</td>\n",
       "      <td>0.020000</td>\n",
       "      <td>1</td>\n",
       "      <td>0.0</td>\n",
       "      <td>1</td>\n",
       "      <td>...</td>\n",
       "      <td>0</td>\n",
       "      <td>0</td>\n",
       "      <td>0</td>\n",
       "      <td>0</td>\n",
       "      <td>0</td>\n",
       "      <td>0</td>\n",
       "      <td>0</td>\n",
       "      <td>0</td>\n",
       "      <td>0</td>\n",
       "      <td>0</td>\n",
       "    </tr>\n",
       "    <tr>\n",
       "      <th>1</th>\n",
       "      <td>2015-01-28</td>\n",
       "      <td>1050611</td>\n",
       "      <td>0</td>\n",
       "      <td>1</td>\n",
       "      <td>0</td>\n",
       "      <td>0.23</td>\n",
       "      <td>0.116667</td>\n",
       "      <td>1</td>\n",
       "      <td>0.0</td>\n",
       "      <td>1</td>\n",
       "      <td>...</td>\n",
       "      <td>0</td>\n",
       "      <td>0</td>\n",
       "      <td>0</td>\n",
       "      <td>0</td>\n",
       "      <td>0</td>\n",
       "      <td>0</td>\n",
       "      <td>0</td>\n",
       "      <td>0</td>\n",
       "      <td>0</td>\n",
       "      <td>0</td>\n",
       "    </tr>\n",
       "    <tr>\n",
       "      <th>2</th>\n",
       "      <td>2015-01-28</td>\n",
       "      <td>1050612</td>\n",
       "      <td>0</td>\n",
       "      <td>1</td>\n",
       "      <td>0</td>\n",
       "      <td>0.23</td>\n",
       "      <td>0.116667</td>\n",
       "      <td>1</td>\n",
       "      <td>0.0</td>\n",
       "      <td>1</td>\n",
       "      <td>...</td>\n",
       "      <td>0</td>\n",
       "      <td>0</td>\n",
       "      <td>0</td>\n",
       "      <td>0</td>\n",
       "      <td>0</td>\n",
       "      <td>0</td>\n",
       "      <td>0</td>\n",
       "      <td>0</td>\n",
       "      <td>0</td>\n",
       "      <td>0</td>\n",
       "    </tr>\n",
       "    <tr>\n",
       "      <th>3</th>\n",
       "      <td>2015-01-28</td>\n",
       "      <td>1050613</td>\n",
       "      <td>0</td>\n",
       "      <td>1</td>\n",
       "      <td>1</td>\n",
       "      <td>0.22</td>\n",
       "      <td>0.116667</td>\n",
       "      <td>1</td>\n",
       "      <td>0.0</td>\n",
       "      <td>1</td>\n",
       "      <td>...</td>\n",
       "      <td>0</td>\n",
       "      <td>0</td>\n",
       "      <td>0</td>\n",
       "      <td>0</td>\n",
       "      <td>0</td>\n",
       "      <td>0</td>\n",
       "      <td>0</td>\n",
       "      <td>0</td>\n",
       "      <td>0</td>\n",
       "      <td>0</td>\n",
       "    </tr>\n",
       "    <tr>\n",
       "      <th>4</th>\n",
       "      <td>2015-01-28</td>\n",
       "      <td>1050614</td>\n",
       "      <td>0</td>\n",
       "      <td>1</td>\n",
       "      <td>0</td>\n",
       "      <td>0.23</td>\n",
       "      <td>0.116667</td>\n",
       "      <td>1</td>\n",
       "      <td>0.0</td>\n",
       "      <td>1</td>\n",
       "      <td>...</td>\n",
       "      <td>0</td>\n",
       "      <td>0</td>\n",
       "      <td>0</td>\n",
       "      <td>0</td>\n",
       "      <td>0</td>\n",
       "      <td>0</td>\n",
       "      <td>0</td>\n",
       "      <td>0</td>\n",
       "      <td>0</td>\n",
       "      <td>0</td>\n",
       "    </tr>\n",
       "  </tbody>\n",
       "</table>\n",
       "<p>5 rows × 41 columns</p>\n",
       "</div>"
      ],
      "text/plain": [
       "   fecha_dato  ncodpers  ind_empleado  pais_residencia  sexo   age  \\\n",
       "0  2015-01-28   1375586             0                1     1  0.35   \n",
       "1  2015-01-28   1050611             0                1     0  0.23   \n",
       "2  2015-01-28   1050612             0                1     0  0.23   \n",
       "3  2015-01-28   1050613             0                1     1  0.22   \n",
       "4  2015-01-28   1050614             0                1     0  0.23   \n",
       "\n",
       "   antiguedad  indrel  ult_fec_cli_1t  indrel_1mes       ...         \\\n",
       "0    0.020000       1             0.0            1       ...          \n",
       "1    0.116667       1             0.0            1       ...          \n",
       "2    0.116667       1             0.0            1       ...          \n",
       "3    0.116667       1             0.0            1       ...          \n",
       "4    0.116667       1             0.0            1       ...          \n",
       "\n",
       "   ind_hip_fin_ult1  ind_plan_fin_ult1  ind_pres_fin_ult1  ind_reca_fin_ult1  \\\n",
       "0                 0                  0                  0                  0   \n",
       "1                 0                  0                  0                  0   \n",
       "2                 0                  0                  0                  0   \n",
       "3                 0                  0                  0                  0   \n",
       "4                 0                  0                  0                  0   \n",
       "\n",
       "   ind_tjcr_fin_ult1  ind_valo_fin_ult1  ind_viv_fin_ult1  ind_nomina_ult1  \\\n",
       "0                  0                  0                 0                0   \n",
       "1                  0                  0                 0                0   \n",
       "2                  0                  0                 0                0   \n",
       "3                  0                  0                 0                0   \n",
       "4                  0                  0                 0                0   \n",
       "\n",
       "   ind_nom_pens_ult1  ind_recibo_ult1  \n",
       "0                  0                0  \n",
       "1                  0                0  \n",
       "2                  0                0  \n",
       "3                  0                0  \n",
       "4                  0                0  \n",
       "\n",
       "[5 rows x 41 columns]"
      ]
     },
     "execution_count": 185,
     "metadata": {},
     "output_type": "execute_result"
    }
   ],
   "source": [
    "csv[:5]"
   ]
  },
  {
   "cell_type": "code",
   "execution_count": null,
   "metadata": {
    "collapsed": true
   },
   "outputs": [],
   "source": []
  },
  {
   "cell_type": "code",
   "execution_count": 186,
   "metadata": {
    "collapsed": false
   },
   "outputs": [
    {
     "data": {
      "text/plain": [
       "120"
      ]
     },
     "execution_count": 186,
     "metadata": {},
     "output_type": "execute_result"
    }
   ],
   "source": [
    "# One hot for \"ind_empleado\"\n",
    "csv[\"ind_empleado_N\"] = (csv[\"ind_empleado\"] == 0).astype(np.int32)\n",
    "csv[\"ind_empleado_B\"] = (csv[\"ind_empleado\"] == 1).astype(np.int32)\n",
    "csv[\"ind_empleado_F\"] = (csv[\"ind_empleado\"] == 2).astype(np.int32)\n",
    "csv[\"ind_empleado_A\"] = (csv[\"ind_empleado\"] == 3).astype(np.int32)\n",
    "csv[\"ind_empleado_S\"] = (csv[\"ind_empleado\"] == 4).astype(np.int32)\n",
    "csv.drop(\"ind_empleado\", axis=1, inplace=True)\n",
    "gc.collect()"
   ]
  },
  {
   "cell_type": "code",
   "execution_count": 187,
   "metadata": {
    "collapsed": false
   },
   "outputs": [
    {
     "data": {
      "text/plain": [
       "49"
      ]
     },
     "execution_count": 187,
     "metadata": {},
     "output_type": "execute_result"
    }
   ],
   "source": [
    "\n",
    "csv[\"indrel_1mes_0\"] = (csv[\"indrel_1mes\"] == 0).astype(np.int32)\n",
    "csv[\"indrel_1mes_1\"] = (csv[\"indrel_1mes\"] == 1).astype(np.int32)\n",
    "csv[\"indrel_1mes_2\"] = (csv[\"indrel_1mes\"] == 2).astype(np.int32)\n",
    "csv[\"indrel_1mes_3\"] = (csv[\"indrel_1mes\"] == 3).astype(np.int32)\n",
    "csv[\"indrel_1mes_4\"] = (csv[\"indrel_1mes\"] == 4).astype(np.int32)\n",
    "csv[\"indrel_1mes_5\"] = (csv[\"indrel_1mes\"] == 5).astype(np.int32)\n",
    "csv.drop(\"indrel_1mes\", axis=1, inplace=True)\n",
    "gc.collect()"
   ]
  },
  {
   "cell_type": "code",
   "execution_count": 188,
   "metadata": {
    "collapsed": false
   },
   "outputs": [
    {
     "data": {
      "text/plain": [
       "42"
      ]
     },
     "execution_count": 188,
     "metadata": {},
     "output_type": "execute_result"
    }
   ],
   "source": [
    "\n",
    "csv[\"tiprel_1mes_0\"] = (csv[\"tiprel_1mes\"] == 0).astype(np.int32)\n",
    "csv[\"tiprel_1mes_1\"] = (csv[\"tiprel_1mes\"] == 1).astype(np.int32)\n",
    "csv[\"tiprel_1mes_2\"] = (csv[\"tiprel_1mes\"] == 2).astype(np.int32)\n",
    "csv[\"tiprel_1mes_3\"] = (csv[\"tiprel_1mes\"] == 3).astype(np.int32)\n",
    "csv[\"tiprel_1mes_4\"] = (csv[\"tiprel_1mes\"] == 4).astype(np.int32)\n",
    "csv.drop(\"tiprel_1mes\", axis=1, inplace=True)\n",
    "gc.collect()"
   ]
  },
  {
   "cell_type": "code",
   "execution_count": 189,
   "metadata": {
    "collapsed": false
   },
   "outputs": [
    {
     "data": {
      "text/plain": [
       "99"
      ]
     },
     "execution_count": 189,
     "metadata": {},
     "output_type": "execute_result"
    }
   ],
   "source": [
    "for i in canal_entrada_vals:\n",
    "    csv[\"canal_entrada_\"+str(i)] = (csv[\"canal_entrada\"] == i).astype(np.int32)\n",
    "csv.drop(\"canal_entrada\", axis=1, inplace=True)\n",
    "gc.collect()"
   ]
  },
  {
   "cell_type": "code",
   "execution_count": 190,
   "metadata": {
    "collapsed": false
   },
   "outputs": [],
   "source": [
    "monthes = np.unique(csv[\"fecha_dato\"])"
   ]
  },
  {
   "cell_type": "code",
   "execution_count": 191,
   "metadata": {
    "collapsed": false
   },
   "outputs": [],
   "source": [
    "monthes_vals = list(range(len(monthes)))\n",
    "csv[\"fecha_dato\"] = csv[\"fecha_dato\"].replace(monthes, monthes_vals).astype(np.int32)"
   ]
  },
  {
   "cell_type": "code",
   "execution_count": 192,
   "metadata": {
    "collapsed": false
   },
   "outputs": [],
   "source": [
    "customers = np.unique(csv[\"ncodpers\"])"
   ]
  },
  {
   "cell_type": "code",
   "execution_count": 211,
   "metadata": {
    "collapsed": false
   },
   "outputs": [
    {
     "data": {
      "text/plain": [
       "((949614,), 17)"
      ]
     },
     "execution_count": 211,
     "metadata": {},
     "output_type": "execute_result"
    }
   ],
   "source": [
    "(customers.shape, len(monthes))"
   ]
  },
  {
   "cell_type": "code",
   "execution_count": 205,
   "metadata": {
    "collapsed": false
   },
   "outputs": [],
   "source": [
    "chunk_idx = np.ndarray(shape=(len(customers),len(monthes)))\n",
    "groups = csv.groupby('ncodpers')\n",
    "keys = groups.groups.keys()\n",
    "\n",
    "# for i, row in csv.iterrows():\n",
    "#     row = csv.iloc[i].values\n",
    "#     month, cid, data = int(row[0]), int(row[1]), row[2:]\n",
    "#     print(month, cid, data)\n",
    "#     break"
   ]
  },
  {
   "cell_type": "code",
   "execution_count": 212,
   "metadata": {
    "collapsed": false
   },
   "outputs": [],
   "source": [
    "group_idx = {}\n",
    "for cid in groups.groups.keys():\n",
    "    if len(groups.groups[cid]) == len(monthes) :\n",
    "        group_idx[cid] = groups.groups[cid]"
   ]
  },
  {
   "cell_type": "code",
   "execution_count": 213,
   "metadata": {
    "collapsed": false
   },
   "outputs": [
    {
     "data": {
      "text/plain": [
       "(605464, 949614)"
      ]
     },
     "execution_count": 213,
     "metadata": {},
     "output_type": "execute_result"
    }
   ],
   "source": [
    "(len(group_idx), len(groups.groups))"
   ]
  },
  {
   "cell_type": "code",
   "execution_count": null,
   "metadata": {
    "collapsed": true
   },
   "outputs": [],
   "source": [
    "class BatchGenerator(object):\n",
    "    \n",
    "    def __init__(self, group_idx, batch_size, unrollings, monthes = 17):\n",
    "        self.group_idx = group_idx\n",
    "        self.batch_size = batch_size\n",
    "        self.unrollings = unrollings\n",
    "        self.monthes = monthes\n",
    "        self.month = 0\n",
    "        self.offset = 0\n",
    "        self._generator = self._init_generator()\n",
    "        \n",
    "    def __next__(self):\n",
    "        batch = np.zeros(shape=(self.batch_size, self.unrollings), dtype=np.int)\n",
    "        for i in range(self.batch_size):\n",
    "            batch[i] = self._forever_next()\n",
    "\n",
    "        return batch\n",
    "    \n",
    "    def _forever_next(self):\n",
    "        try:\n",
    "            item = next(self._generator)\n",
    "            return item\n",
    "        except StopIteration:\n",
    "            print(\"StopIteration, begin again\")\n",
    "            self._generator = self._init_generator()\n",
    "            item = next(self._generator)\n",
    "            return item\n",
    "                           \n",
    "                           \n",
    "    def _init_generator(self):\n",
    "        for i in range(self.monthes - self.unrollings):\n",
    "            for cid in self.group_idx.keys():\n",
    "                yield np.array(self.group_idx[cid][i:i+self.unrollings])\n",
    "    \n",
    "    \n",
    "    \n",
    "        "
   ]
  },
  {
   "cell_type": "code",
   "execution_count": 234,
   "metadata": {
    "collapsed": false
   },
   "outputs": [
    {
     "name": "stdout",
     "output_type": "stream",
     "text": [
      "[[   1557 1247923 1852436 2505660 2546653 3174749]\n",
      " [   1558 1247922 1852435 2505659 2546638 3174750]\n",
      " [   1559 1247921 1852434 2505658 2546639 3174751]\n",
      " [   1560 1247920 1852433 2505673 2546640 3174752]\n",
      " [   1545 1247919 1852432 2505675 2546641 3174753]\n",
      " [   1561 1247918 1852477 2505692 2546642 3174754]\n",
      " [   1544 1247917 1852488 2505676 2546643 3174755]\n",
      " [   1542 1247916 1852554 2505691 2546644 3174756]\n",
      " [   1527 1247915 1852489 2505690 2546645 3174757]\n",
      " [   1528 1247930 1852542 2505689 2546646 3174758]\n",
      " [   1529 1247932 1852541 2505688 2546647 3174759]\n",
      " [   1531 1247933 1852539 2505686 2546649 3174707]\n",
      " [   1532 1247948 1852538 2505685 2546650 3174772]\n",
      " [   1533 1247947 1852537 2505684 2546651 3174706]\n",
      " [   1534 1247946 1852536 2505683 2546652 3174695]\n",
      " [ 281807  975371 1575575 2202306 2818899 3458697]]\n"
     ]
    }
   ],
   "source": [
    "g = BatchGenerator(group_idx, 16, 6)\n",
    "print(g.__next__())\n"
   ]
  },
  {
   "cell_type": "code",
   "execution_count": 284,
   "metadata": {
    "collapsed": false
   },
   "outputs": [
    {
     "data": {
      "text/plain": [
       "(array(['pais_residencia', 'sexo', 'age', 'antiguedad', 'indrel',\n",
       "        'ult_fec_cli_1t', 'indresi', 'indfall', 'ind_actividad_cliente',\n",
       "        'renta', 'segmento', 'ind_ahor_fin_ult1', 'ind_aval_fin_ult1',\n",
       "        'ind_cco_fin_ult1', 'ind_cder_fin_ult1', 'ind_cno_fin_ult1',\n",
       "        'ind_ctju_fin_ult1', 'ind_ctma_fin_ult1', 'ind_ctop_fin_ult1',\n",
       "        'ind_ctpp_fin_ult1', 'ind_deco_fin_ult1', 'ind_deme_fin_ult1',\n",
       "        'ind_dela_fin_ult1', 'ind_ecue_fin_ult1', 'ind_fond_fin_ult1',\n",
       "        'ind_hip_fin_ult1', 'ind_plan_fin_ult1', 'ind_pres_fin_ult1',\n",
       "        'ind_reca_fin_ult1', 'ind_tjcr_fin_ult1', 'ind_valo_fin_ult1',\n",
       "        'ind_viv_fin_ult1', 'ind_nomina_ult1', 'ind_nom_pens_ult1',\n",
       "        'ind_recibo_ult1', 'ind_empleado_N', 'ind_empleado_B',\n",
       "        'ind_empleado_F', 'ind_empleado_A', 'ind_empleado_S',\n",
       "        'indrel_1mes_0', 'indrel_1mes_1', 'indrel_1mes_2', 'indrel_1mes_3',\n",
       "        'indrel_1mes_4', 'indrel_1mes_5', 'tiprel_1mes_0', 'tiprel_1mes_1',\n",
       "        'tiprel_1mes_2', 'tiprel_1mes_3', 'tiprel_1mes_4',\n",
       "        'canal_entrada_0', 'canal_entrada_1', 'canal_entrada_2',\n",
       "        'canal_entrada_3', 'canal_entrada_4', 'canal_entrada_5',\n",
       "        'canal_entrada_6', 'canal_entrada_7', 'canal_entrada_8',\n",
       "        'canal_entrada_9'], dtype=object),\n",
       " array(['pais_residencia', 'sexo', 'age', 'antiguedad', 'indrel',\n",
       "        'ult_fec_cli_1t', 'indresi', 'indfall', 'ind_actividad_cliente',\n",
       "        'renta', 'segmento', 'ind_empleado_N', 'ind_empleado_B',\n",
       "        'ind_empleado_F', 'ind_empleado_A', 'ind_empleado_S',\n",
       "        'indrel_1mes_0', 'indrel_1mes_1', 'indrel_1mes_2', 'indrel_1mes_3',\n",
       "        'indrel_1mes_4', 'indrel_1mes_5', 'tiprel_1mes_0', 'tiprel_1mes_1',\n",
       "        'tiprel_1mes_2', 'tiprel_1mes_3', 'tiprel_1mes_4',\n",
       "        'canal_entrada_0', 'canal_entrada_1', 'canal_entrada_2',\n",
       "        'canal_entrada_3', 'canal_entrada_4', 'canal_entrada_5',\n",
       "        'canal_entrada_6', 'canal_entrada_7', 'canal_entrada_8',\n",
       "        'canal_entrada_9'], dtype=object))"
      ]
     },
     "execution_count": 284,
     "metadata": {},
     "output_type": "execute_result"
    }
   ],
   "source": [
    "cols = list(csv.columns.values.copy())\n",
    "cols.remove(\"fecha_dato\")\n",
    "cols.remove(\"ncodpers\")\n",
    "X_fields = np.array(cols, dtype=\"O\")\n",
    "\n",
    "for f in y_fields:\n",
    "    cols.remove(f)\n",
    "X_no_y_fields = np.array(cols, dtype=\"O\")\n",
    "\n",
    "(X_fields, X_no_y_fields)"
   ]
  },
  {
   "cell_type": "code",
   "execution_count": 287,
   "metadata": {
    "collapsed": false
   },
   "outputs": [
    {
     "data": {
      "text/plain": [
       "(61, 37, 24)"
      ]
     },
     "execution_count": 287,
     "metadata": {},
     "output_type": "execute_result"
    }
   ],
   "source": [
    "(len(X_fields),len(X_no_y_fields),len(y_fields))"
   ]
  },
  {
   "cell_type": "code",
   "execution_count": 262,
   "metadata": {
    "collapsed": true
   },
   "outputs": [],
   "source": [
    "\n",
    "def accuracy(predictions, labels):\n",
    "    return (100.0 * np.sum(np.argmax(predictions, 1) == np.argmax(labels, 1))\n",
    "          / predictions.shape[0])"
   ]
  },
  {
   "cell_type": "markdown",
   "metadata": {},
   "source": [
    "# Machine Learning"
   ]
  },
  {
   "cell_type": "code",
   "execution_count": 302,
   "metadata": {
    "collapsed": false
   },
   "outputs": [
    {
     "name": "stdout",
     "output_type": "stream",
     "text": [
      "Shape one RNN input (32, 61)\n",
      "Shape one RNN (32, 64)\n",
      "Shape one Last input (32, 37)\n",
      "Shape one Last (32, 37)\n",
      "Shape one concatenated (RNN + Last) (32, 128)\n",
      "Shape one output (32, 24)\n"
     ]
    },
    {
     "data": {
      "text/plain": [
       "111090"
      ]
     },
     "execution_count": 302,
     "metadata": {},
     "output_type": "execute_result"
    }
   ],
   "source": [
    "\n",
    "num_unrollings=10\n",
    "\n",
    "batch_size=32\n",
    "hidden_size = 64\n",
    "\n",
    "\n",
    "input_size = len(X_fields)\n",
    "last_input_size = len(X_no_y_fields)\n",
    "output_size = len(y_fields)\n",
    "\n",
    "\n",
    "graph_rnn = tf.Graph()\n",
    "with graph_rnn.as_default():\n",
    "    \n",
    "    # Inputs\n",
    "    dropout_placeholder = tf.placeholder(tf.float32, name='Dropout')\n",
    "    # Input data.\n",
    "    train_inputs = list()\n",
    "    train_inputs_last = list()\n",
    "    train_labels = list()\n",
    "    for _ in range(num_unrollings):\n",
    "        train_inputs.append(tf.placeholder(tf.float32, shape=[batch_size,input_size]))  # I - I - I - I\n",
    "        train_labels.append(tf.placeholder(tf.float32, shape=[batch_size,output_size])) #     O - O - O - O\n",
    "        train_inputs_last.append(tf.placeholder(tf.float32, shape=[batch_size,last_input_size]))\n",
    "    \n",
    "    input_placeholder = tf.placeholder(\n",
    "        tf.float64, shape=[batch_size, input_size], name='Input')\n",
    "    labels_placeholder = tf.placeholder(\n",
    "        tf.float64, shape=[batch_size, output_size], name='Target')\n",
    "    \n",
    "    with tf.variable_scope('InputDropout'):\n",
    "        train_inputs = [tf.nn.dropout(x, dropout_placeholder) for x in train_inputs]\n",
    "    # RNN\n",
    "    rnn_outputs = []\n",
    "    with tf.variable_scope('RNN') as scope:\n",
    "        print(\"Shape one RNN input\", train_inputs[0].get_shape())\n",
    "        initial_state = tf.zeros([batch_size, hidden_size])\n",
    "        state = initial_state\n",
    "        \n",
    "        for tstep, current_input in enumerate(train_inputs):\n",
    "            if tstep > 0:\n",
    "                scope.reuse_variables()\n",
    "            RNN_H = tf.get_variable('HMatrix', [hidden_size, hidden_size], initializer=tf.truncated_normal_initializer(stddev=0.1))\n",
    "            RNN_I = tf.get_variable('IMatrix', [input_size, hidden_size], initializer=tf.truncated_normal_initializer(stddev=0.1))\n",
    "            RNN_b = tf.get_variable('B', [hidden_size], initializer=tf.constant_initializer(0.0))\n",
    "            \n",
    "            state = tf.nn.sigmoid(tf.matmul(state, RNN_H) + tf.matmul(current_input, RNN_I) + RNN_b)\n",
    "            rnn_outputs.append(state)\n",
    "        final_state = rnn_outputs[-1]\n",
    "        print(\"Shape one RNN\", final_state.get_shape())\n",
    "    \n",
    "    with tf.variable_scope('Last'):\n",
    "        print(\"Shape one Last input\", train_inputs_last[0].get_shape())\n",
    "        W_last = tf.get_variable('W_last', [last_input_size, hidden_size], initializer=tf.truncated_normal_initializer(stddev=0.1))\n",
    "        b_last = tf.get_variable('b_last', [hidden_size], initializer=tf.constant_initializer(0.0))\n",
    "        tf.add_to_collection('total_loss', tf.nn.l2_loss(W_last))\n",
    "        \n",
    "        features_last = [tf.matmul(x, W_last) + b_last for x in train_inputs_last]\n",
    "        print(\"Shape one Last\", features_last[0].get_shape())\n",
    "    \n",
    "    #Projection\n",
    "    with tf.variable_scope('Projection'):\n",
    "        concatenated = [tf.concat(1, (features_last[i], rnn_outputs[i])) for i in range(num_unrollings)]\n",
    "        print(\"Shape one concatenated (RNN + Last)\", concatenated[0].get_shape())\n",
    "        \n",
    "        W_proj = tf.get_variable('W_proj', [hidden_size*2, output_size], initializer=tf.truncated_normal_initializer(stddev=0.1))\n",
    "        b_proj = tf.get_variable('b_proj', [output_size], initializer=tf.constant_initializer(0.0))\n",
    "        tf.add_to_collection('total_loss', tf.nn.l2_loss(W_proj))\n",
    "        \n",
    "        outputs = [tf.matmul(o, W_proj) + b_proj for o in concatenated]\n",
    "        print(\"Shape one output\", outputs[0].get_shape())\n",
    "    \n",
    "    cross_entropy = tf.reduce_mean(\n",
    "      tf.nn.sigmoid_cross_entropy_with_logits(tf.concat(0, outputs), tf.concat(0, train_labels)))\n",
    "    tf.add_to_collection('total_loss', cross_entropy)\n",
    "    \n",
    "    loss = tf.add_n(tf.get_collection('total_loss'))\n",
    "    \n",
    "    optimizer = tf.train.AdamOptimizer(0.0001).minimize(loss)\n",
    "    \n",
    "    predictions = [tf.nn.sigmoid(o) for o in outputs]\n",
    "    \n",
    "    auc = tf.contrib.metrics.streaming_auc(predictions[-1], train_labels[-1])\n",
    "    \n",
    "gc.collect() "
   ]
  },
  {
   "cell_type": "code",
   "execution_count": null,
   "metadata": {
    "collapsed": false
   },
   "outputs": [
    {
     "name": "stdout",
     "output_type": "stream",
     "text": [
      "steps 42561\n",
      "Initialized\n",
      "0 44.8831 (0.0, 0.29694676)\n",
      "[ 0.75921685  0.88538045  0.39598748  0.87144881  0.57983309  0.84354663\n",
      "  0.32116571  0.8620556   0.77205902  0.87459809  0.83310044  0.54807383\n",
      "  0.32306722  0.1362917   0.40194657  0.4615061   0.30799463  0.29567885\n",
      "  0.44778401  0.40670407  0.82711935  0.84360921  0.37121505  0.30135393]\n",
      "[0 0 1 0 0 0 0 0 0 0 0 0 0 0 0 0 0 0 0 0 0 0 0 0]\n",
      "100 39.4164 (0.3255057, 0.32567453)\n",
      "200 34.6528 (0.37174982, 0.37192219)\n",
      "300 30.484 (0.38403448, 0.3844007)\n",
      "400 26.8387 (0.41256714, 0.4124954)\n",
      "500 23.6293 (0.42655647, 0.42667821)\n",
      "600 20.8008 (0.4379406, 0.43809837)\n",
      "700 18.3164 (0.44802818, 0.44812334)\n",
      "800 16.1094 (0.46167871, 0.46178195)\n",
      "900 14.1766 (0.47644117, 0.47650564)\n",
      "1000 12.4762 (0.48841333, 0.48854458)\n",
      "1100 10.9651 (0.50203037, 0.50218689)\n",
      "1200 9.64948 (0.51974225, 0.51999235)\n",
      "1300 8.46707 (0.54199684, 0.54220033)\n",
      "1400 7.44058 (0.56156391, 0.56173557)\n",
      "1500 6.53144 (0.57458305, 0.5745846)\n",
      "1600 5.71062 (0.58420074, 0.58420038)\n",
      "1700 5.01161 (0.59233242, 0.59246057)\n",
      "1800 4.39305 (0.6000278, 0.60008562)\n",
      "1900 3.84149 (0.60957575, 0.60971361)\n",
      "2000 3.36999 (0.62161463, 0.62166971)\n",
      "2100 2.94723 (0.6261633, 0.62616086)\n",
      "2200 2.58093 (0.62492275, 0.62499475)\n",
      "2300 2.26766 (0.62693441, 0.62698269)\n",
      "2400 2.00165 (0.62857038, 0.62860084)\n",
      "2500 1.75011 (0.63079619, 0.63091165)\n",
      "2600 1.55893 (0.63387823, 0.6338855)\n",
      "2700 1.36645 (0.63644379, 0.63647759)\n",
      "2800 1.22413 (0.63892782, 0.63898551)\n",
      "2900 1.09905 (0.64044946, 0.64035571)\n",
      "3000 0.989497 (0.64127904, 0.64129293)\n",
      "3100 0.882045 (0.64253747, 0.64256853)\n",
      "3200 0.812575 (0.64442033, 0.64434421)\n",
      "3300 0.73236 (0.64545625, 0.64548945)\n",
      "3400 0.674988 (0.64694297, 0.64698052)\n",
      "3500 0.624398 (0.64972246, 0.64979398)\n",
      "3600 0.59045 (0.65533, 0.65537989)\n",
      "3700 0.564315 (0.65967309, 0.65970755)\n",
      "3800 0.548199 (0.66310012, 0.66315156)\n",
      "3900 0.510884 (0.66588408, 0.6659404)\n",
      "4000 0.508514 (0.66806781, 0.66807091)\n",
      "4100 0.495631 (0.66998637, 0.66999984)\n",
      "4200 0.497682 (0.67163521, 0.67163599)\n",
      "4300 0.494179 (0.67295915, 0.67297554)\n",
      "4400 0.46656 (0.6748966, 0.674927)\n",
      "4500 0.464396 (0.67698479, 0.67703289)\n",
      "4600 0.468161 (0.6807549, 0.68072963)\n",
      "4700 0.456904 (0.68274677, 0.68276101)\n",
      "4800 0.445437 (0.68463922, 0.68466002)\n",
      "4900 0.456586 (0.68669486, 0.68672389)\n",
      "5000 0.444485 (0.68742406, 0.68741798)\n",
      "5100 0.4484 (0.68874502, 0.68873644)\n",
      "5200 0.44107 (0.68945587, 0.68948203)\n",
      "5300 0.430691 (0.6904155, 0.69038516)\n",
      "5400 0.429403 (0.69246978, 0.69246656)\n",
      "5500 0.422337 (0.69421768, 0.69425905)\n",
      "5600 0.4104 (0.6958186, 0.69584239)\n",
      "5700 0.414651 (0.69814557, 0.69817674)\n",
      "5800 0.404244 (0.69995081, 0.69994909)\n",
      "5900 0.413548 (0.7019611, 0.70193744)\n",
      "6000 0.398353 (0.70349747, 0.70351231)\n",
      "6100 0.400126 (0.70467615, 0.70467764)\n",
      "6200 0.40815 (0.70540857, 0.70542532)\n",
      "6300 0.412868 (0.70569354, 0.70568782)\n",
      "6400 0.384709 (0.70416903, 0.70416367)\n",
      "6500 0.392563 (0.70321172, 0.70317811)\n",
      "6600 0.381018 (0.70247948, 0.70248085)\n",
      "6700 0.374828 (0.7014972, 0.70150888)\n",
      "6800 0.373426 (0.70072651, 0.70072991)\n",
      "6900 0.370941 (0.69937921, 0.6993534)\n",
      "7000 0.367959 (0.69799405, 0.69800413)\n",
      "7100 0.363335 (0.6966098, 0.69661039)\n",
      "7200 0.360739 (0.69563913, 0.69565153)\n",
      "7300 0.365131 (0.69503707, 0.69500113)\n",
      "7400 0.350934 (0.69291365, 0.69288826)\n",
      "7500 0.363627 (0.69096714, 0.69092089)\n",
      "7600 0.354572 (0.68909305, 0.68909377)\n",
      "7700 0.353558 (0.68702483, 0.68699837)\n",
      "7800 0.360953 (0.68621415, 0.68622053)\n",
      "7900 0.346669 (0.68714291, 0.68716288)\n",
      "8000 0.348472 (0.68809253, 0.68811166)\n",
      "8100 0.382699 (0.68855536, 0.68855798)\n",
      "8200 0.359302 (0.68853289, 0.68854117)\n",
      "8300 0.384132 (0.68865263, 0.68862885)\n",
      "8400 0.374947 (0.68887502, 0.68889678)\n",
      "8500 0.370897 (0.68897378, 0.68897474)\n",
      "8600 0.395869 (0.68939841, 0.68937862)\n",
      "8700 0.369529 (0.68976891, 0.68978506)\n",
      "8800 0.363054 (0.6906563, 0.69066834)\n",
      "8900 0.354629 (0.69128817, 0.69130343)\n",
      "9000 0.371668 (0.69199485, 0.69199795)\n",
      "9100 0.356951 (0.69268149, 0.69268429)\n",
      "9200 0.36958 (0.69336784, 0.69338071)\n",
      "9300 0.34366 (0.69388747, 0.69389701)\n",
      "9400 0.342307 (0.69451559, 0.69450974)\n",
      "9500 0.334104 (0.69526237, 0.69528377)\n",
      "9600 0.370413 (0.69570541, 0.69568074)\n",
      "9700 0.341518 (0.69574356, 0.69574606)\n",
      "9800 0.374874 (0.6960392, 0.69602543)\n",
      "9900 0.343314 (0.69618779, 0.69617623)\n",
      "10000 0.329911 (0.69618213, 0.69618559)\n",
      "[ 0.15024458  0.18656906  0.63226104  0.1734115   0.17866094  0.20698474\n",
      "  0.12148526  0.38793999  0.20631732  0.15511544  0.19860539  0.12009303\n",
      "  0.15860893  0.06502958  0.13901637  0.05592631  0.08241864  0.12458325\n",
      "  0.1004905   0.15489025  0.18655762  0.22173597  0.14056112  0.15942518]\n",
      "[0 0 1 0 1 0 0 1 1 0 0 0 0 0 0 0 0 1 0 0 1 1 1 1]\n",
      "10100 0.31343 (0.69623023, 0.69623673)\n",
      "10200 0.323497 (0.69618881, 0.69618011)\n",
      "10300 0.330265 (0.69609213, 0.69608599)\n",
      "10400 0.318104 (0.69592142, 0.6959222)\n",
      "10500 0.313307 (0.69629812, 0.69629949)\n",
      "10600 0.327092 (0.69685602, 0.6968767)\n",
      "10700 0.335237 (0.69767022, 0.69767523)\n",
      "10800 0.330763 (0.69814861, 0.69814891)\n",
      "10900 0.306755 (0.6985147, 0.69851714)\n",
      "11000 0.310633 (0.69858897, 0.69858688)\n",
      "11100 0.31343 (0.69865334, 0.69864392)\n",
      "11200 0.294292 (0.6990937, 0.69910145)\n",
      "11300 0.313676 (0.69982874, 0.69984061)\n",
      "11400 0.294131 (0.70049047, 0.70049757)\n",
      "11500 0.295712 (0.70125788, 0.70126414)\n",
      "11600 0.305706 (0.70237458, 0.70237398)\n",
      "11700 0.306883 (0.70317489, 0.70318812)\n",
      "11800 0.290315 (0.70403743, 0.70405585)\n",
      "11900 0.313095 (0.7047863, 0.70479453)\n"
     ]
    }
   ],
   "source": [
    "num_steps = len(csv)//batch_size//num_unrollings\n",
    "print(\"steps\", num_steps)\n",
    "\n",
    "with tf.Session(graph=graph_rnn) as session:\n",
    "    \n",
    "    init_op_all = tf.initialize_all_variables()\n",
    "    init_op_local = tf.initialize_local_variables()\n",
    "    saver = tf.train.Saver()\n",
    "    init_op_all.run()\n",
    "    init_op_local.run()\n",
    "    print('Initialized')\n",
    "    \n",
    "    g = BatchGenerator(group_idx, batch_size, num_unrollings+1)\n",
    "    \n",
    "    for i in range(num_steps):\n",
    "        feed_dict = {dropout_placeholder: 1}\n",
    "        \n",
    "        batch_idx = next(g)\n",
    "        for _i in range(num_unrollings):\n",
    "            _X = csv.iloc[batch_idx[:,_i]][X_fields].values\n",
    "            _y = csv.iloc[batch_idx[:,_i+1]][y_fields].values\n",
    "            _X_no_y = csv.iloc[batch_idx[:,_i+1]][X_no_y_fields].values\n",
    "            feed_dict[train_inputs[_i]] = _X\n",
    "            feed_dict[train_inputs_last[_i]] = _X_no_y\n",
    "            feed_dict[train_labels[_i]] = _y\n",
    "        \n",
    "        _ , state, y_pred, l, a = session.run(\n",
    "            [optimizer, final_state, predictions[-1], loss, auc], feed_dict=feed_dict)\n",
    "        if i%100 == 0:\n",
    "            print(i, l, a)\n",
    "        if i%10000 == 0:\n",
    "            print(y_pred[0])\n",
    "            print(_y[0])\n",
    "    save_path = saver.save(session, \"santander.ckpt\")"
   ]
  },
  {
   "cell_type": "code",
   "execution_count": null,
   "metadata": {
    "collapsed": true
   },
   "outputs": [],
   "source": []
  }
 ],
 "metadata": {
  "kernelspec": {
   "display_name": "Python 3",
   "language": "python",
   "name": "python3"
  },
  "language_info": {
   "codemirror_mode": {
    "name": "ipython",
    "version": 3
   },
   "file_extension": ".py",
   "mimetype": "text/x-python",
   "name": "python",
   "nbconvert_exporter": "python",
   "pygments_lexer": "ipython3",
   "version": "3.5.2"
  }
 },
 "nbformat": 4,
 "nbformat_minor": 0
}
